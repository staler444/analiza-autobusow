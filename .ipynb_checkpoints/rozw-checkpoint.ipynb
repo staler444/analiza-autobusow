{
 "cells": [
  {
   "cell_type": "markdown",
   "id": "d7732180-4f1d-4088-8fae-984609ce7253",
   "metadata": {},
   "source": [
    "# Setup"
   ]
  },
  {
   "cell_type": "code",
   "execution_count": 41,
   "id": "54437128-2eae-4d1b-a173-b0c3cb0f5115",
   "metadata": {},
   "outputs": [],
   "source": [
    "import json\n",
    "from geopy.distance import geodesic\n",
    "from datetime import datetime\n",
    "from tqdm import tqdm\n",
    "\n",
    "data_file = \"../dane/data.txt\""
   ]
  },
  {
   "cell_type": "markdown",
   "id": "0c528804-c73d-4ec1-871b-e7394a83bff5",
   "metadata": {},
   "source": [
    "# Ile autobusów przkroczylo prędkość 50km/h?\n"
   ]
  },
  {
   "cell_type": "code",
   "execution_count": 53,
   "id": "8806647f-3e97-47db-b63c-0beb3486054f",
   "metadata": {},
   "outputs": [],
   "source": [
    "class BusesStatistics():\n",
    "    def __init__(self, data_file):\n",
    "        self.data_file = data_file\n",
    "\n",
    "        # Zbior najswierzszych danych autobusu\n",
    "        self.buses_data = {}\n",
    "        \n",
    "        # Jakie busy przekroczyly 50 km/h\n",
    "        self.fast_buses = set()\n",
    "\n",
    "        \n",
    "        self.mesured_speeds = []\n",
    "\n",
    "\n",
    "\n",
    "\n",
    "buses_data = {}\n",
    "\n",
    "fast_buses = set()\n",
    "messured_speeds = []\n",
    "\n",
    "i = 0\n",
    "\n",
    "def time_diff(timestamp1, timestamp2):\n",
    "    dt1 = datetime.strptime(timestamp1, \"%Y-%m-%d %H:%M:%S\")\n",
    "    dt2 = datetime.strptime(timestamp2, \"%Y-%m-%d %H:%M:%S\")\n",
    "\n",
    "    time_difference = dt2 - dt1\n",
    "    difference_in_hours = time_difference.total_seconds() / 3600\n",
    "    return difference_in_hours\n",
    "\n",
    "def update_buses_data(bus_info: dict):\n",
    "    bus_id     = bus_info[\"VehicleNumber\"]\n",
    "    time_stamp = bus_info[\"Time\"]\n",
    "    lon        = bus_info[\"Lon\"]\n",
    "    lat        = bus_info[\"Lat\"]\n",
    "    \n",
    "    if bus_id not in buses_data:\n",
    "        buses_data[bus_id] = {\n",
    "            \"bus_id\": bus_id,\n",
    "            \"time\": time_stamp,\n",
    "            \"cords\": (lat, lon)\n",
    "        }\n",
    "        return\n",
    "    if buses_data[bus_id][\"time\"] == time_stamp:\n",
    "        return\n",
    "    \n",
    "    distance_in_km = geodesic(buses_data[bus_id][\"cords\"], (lat, lon)).kilometers\n",
    "    time_in_hours  = time_diff(buses_data[bus_id][\"time\"], time_stamp)\n",
    "\n",
    "    av_speed = distance_in_km / time_in_hours\n",
    "\n",
    "    global i\n",
    "    i += 1\n",
    "    if i % 1000 == 0:\n",
    "        pass\n",
    "\n",
    "    # Odrzucamy blędne pomiary, nie jest mozliwe zeby autobus jechal 200 w zabudowanym\n",
    "    if av_speed < 200:\n",
    "        messured_speeds.append(av_speed)\n",
    "        if av_speed >= 50:\n",
    "            fast_buses.add(bus_id)\n",
    "\n",
    "    buses_data[bus_id][\"time\"]  = time_stamp\n",
    "    buses_data[bus_id][\"cords\"] = (lat, lon)"
   ]
  },
  {
   "cell_type": "code",
   "execution_count": 54,
   "id": "acdb1856-0489-41a9-a0f3-0af08ebf3377",
   "metadata": {},
   "outputs": [
    {
     "name": "stderr",
     "output_type": "stream",
     "text": [
      "487073it [00:30, 16070.67it/s]"
     ]
    },
    {
     "name": "stdout",
     "output_type": "stream",
     "text": [
      "1019\n"
     ]
    },
    {
     "name": "stderr",
     "output_type": "stream",
     "text": [
      "\n"
     ]
    }
   ],
   "source": [
    "with open(data_file, 'r') as f:\n",
    "    for line in tqdm(f):\n",
    "        dct = json.loads(line)\n",
    "        update_buses_data(dct)\n",
    "        continue\n",
    "        if dct[\"result\"] == \"B\\u0142\\u0119dna metoda lub parametry wywo\\u0142ania\":\n",
    "            continue\n",
    "        for bus_info in dct[\"result\"]:\n",
    "            update_buses_data(bus_info)\n",
    "print(len(fast_buses))"
   ]
  },
  {
   "cell_type": "markdown",
   "id": "b1e0ce8d-0efb-47ff-abe1-b1687fbe5065",
   "metadata": {},
   "source": []
  }
 ],
 "metadata": {
  "kernelspec": {
   "display_name": "python-final",
   "language": "python",
   "name": "python-final"
  },
  "language_info": {
   "codemirror_mode": {
    "name": "ipython",
    "version": 3
   },
   "file_extension": ".py",
   "mimetype": "text/x-python",
   "name": "python",
   "nbconvert_exporter": "python",
   "pygments_lexer": "ipython3",
   "version": "3.11.7"
  }
 },
 "nbformat": 4,
 "nbformat_minor": 5
}
