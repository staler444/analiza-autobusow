{
 "cells": [
  {
   "cell_type": "markdown",
   "id": "d7732180-4f1d-4088-8fae-984609ce7253",
   "metadata": {},
   "source": [
    "# Setup"
   ]
  },
  {
   "cell_type": "code",
   "execution_count": 74,
   "id": "54437128-2eae-4d1b-a173-b0c3cb0f5115",
   "metadata": {},
   "outputs": [],
   "source": [
    "import json\n",
    "from geopy.distance import geodesic\n",
    "from datetime import datetime\n",
    "from tqdm import tqdm\n",
    "import pandas as pd\n",
    "import numpy as np\n",
    "import matplotlib.pyplot as plt\n",
    "\n",
    "data_file = \"../dane/data.txt\""
   ]
  },
  {
   "cell_type": "markdown",
   "id": "0c528804-c73d-4ec1-871b-e7394a83bff5",
   "metadata": {},
   "source": [
    "# Ile autobusów przkroczylo prędkość 50km/h?\n"
   ]
  },
  {
   "cell_type": "code",
   "execution_count": 79,
   "id": "8806647f-3e97-47db-b63c-0beb3486054f",
   "metadata": {},
   "outputs": [],
   "source": [
    "class BusesStatistics():\n",
    "    def __init__(self, data_file):\n",
    "        self.data_file = data_file\n",
    "\n",
    "        # Zbior najswierzszych danych autobusu\n",
    "        self.buses_data = {}\n",
    "        \n",
    "        # Jakie busy przekroczyly 50 km/h\n",
    "        self.fast_buses = set()\n",
    "\n",
    "        # Wszystkie zmierzone predkosci (wielokrotnie dla tych samych autobusow)\n",
    "        self.measured_speeds = []\n",
    "\n",
    "        with open(data_file, 'r') as f:\n",
    "            for line in tqdm(f):\n",
    "                dct = json.loads(line)\n",
    "                self._update_buses_data(dct)\n",
    "                continue\n",
    "                \n",
    "                if dct[\"result\"] == \"B\\u0142\\u0119dna metoda lub parametry wywo\\u0142ania\":\n",
    "                    continue\n",
    "                for bus_info in dct[\"result\"]:\n",
    "                    self._update_buses_data(bus_info)\n",
    "\n",
    "    def get_fast_buses(self):\n",
    "        return self.fast_buses\n",
    "        \n",
    "    def get_measured_speeds(self):\n",
    "        return self.measured_speeds\n",
    "\n",
    "\n",
    "    def _time_diff(self, timestamp1, timestamp2):\n",
    "        dt1 = datetime.strptime(timestamp1, \"%Y-%m-%d %H:%M:%S\")\n",
    "        dt2 = datetime.strptime(timestamp2, \"%Y-%m-%d %H:%M:%S\")\n",
    "\n",
    "        time_difference = dt2 - dt1\n",
    "        difference_in_hours = time_difference.total_seconds() / 3600\n",
    "        return difference_in_hours\n",
    "\n",
    "    def _update_buses_data(self, bus_info: dict):\n",
    "        bus_id     = bus_info[\"VehicleNumber\"]\n",
    "        time_stamp = bus_info[\"Time\"]\n",
    "        lon        = bus_info[\"Lon\"]\n",
    "        lat        = bus_info[\"Lat\"]\n",
    "    \n",
    "        if bus_id not in self.buses_data:\n",
    "            self.buses_data[bus_id] = {\n",
    "                \"bus_id\": bus_id,\n",
    "                \"time\": time_stamp,\n",
    "                \"cords\": (lat, lon)\n",
    "            }\n",
    "            return\n",
    "        if self.buses_data[bus_id][\"time\"] == time_stamp:\n",
    "            return\n",
    "    \n",
    "        distance_in_km = geodesic(self.buses_data[bus_id][\"cords\"], (lat, lon)).kilometers\n",
    "        time_in_hours  = self._time_diff(self.buses_data[bus_id][\"time\"], time_stamp)\n",
    "\n",
    "        av_speed = distance_in_km / time_in_hours\n",
    "\n",
    "        # Odrzucamy blędne pomiary, nie jest mozliwe zeby autobus jechal 100 w zabudowanym\n",
    "        if av_speed < 100:\n",
    "            self.measured_speeds.append(av_speed)\n",
    "            if av_speed >= 50:\n",
    "                self.fast_buses.add(bus_id)\n",
    "\n",
    "        self.buses_data[bus_id][\"time\"]  = time_stamp\n",
    "        self.buses_data[bus_id][\"cords\"] = (lat, lon)\n"
   ]
  },
  {
   "cell_type": "code",
   "execution_count": 80,
   "id": "acdb1856-0489-41a9-a0f3-0af08ebf3377",
   "metadata": {},
   "outputs": [
    {
     "name": "stderr",
     "output_type": "stream",
     "text": [
      "487073it [00:29, 16253.43it/s]"
     ]
    },
    {
     "name": "stdout",
     "output_type": "stream",
     "text": [
      "1015\n"
     ]
    },
    {
     "name": "stderr",
     "output_type": "stream",
     "text": [
      "\n"
     ]
    }
   ],
   "source": [
    "stats = BusesStatistics(data_file)\n",
    "df = pd.DataFrame({\n",
    "    'Speed': stats.get_mesured_speeds(),\n",
    "    '\n",
    "})"
   ]
  },
  {
   "cell_type": "code",
   "execution_count": 83,
   "id": "830797f3-aa8a-4b26-821e-fb6362d3e269",
   "metadata": {},
   "outputs": [
    {
     "data": {
      "image/png": "[encoded data removed]",
      "text/plain": [
       "<Figure size 800x600 with 1 Axes>"
      ]
     },
     "metadata": {},
     "output_type": "display_data"
    }
   ],
   "source": [
    "plt.figure(figsize=(8, 6))\n",
    "plt.hist(stats.get_measured_speeds(), bins=20, color='skyblue', edgecolor='black')\n",
    "plt.xlabel('Speed')\n",
    "plt.ylabel('Frequency')\n",
    "plt.title('Measured Speeds of Buses')\n",
    "plt.xticks(np.arange(0, 100, 5))\n",
    "plt.show()"
   ]
  },
  {
   "cell_type": "code",
   "execution_count": null,
   "id": "a65c3d3a-a149-4902-bc9e-27afcbf9ec89",
   "metadata": {},
   "outputs": [],
   "source": [
    "plt.figure(figsize=(8, 6))\n",
    "theta = np.linspace(0, 2*np.pi, len(df), endpoint=False)\n",
    "radii = df['Speed']\n",
    "width = np.pi / len(df)\n",
    "\n",
    "bars = plt.bar(theta, radii, width=width, color='skyblue', edgecolor='black')\n",
    "\n",
    "plt.title('Circular Chart of Measured Speeds of Buses')\n",
    "plt.show()"
   ]
  }
 ],
 "metadata": {
  "kernelspec": {
   "display_name": "python-final",
   "language": "python",
   "name": "python-final"
  },
  "language_info": {
   "codemirror_mode": {
    "name": "ipython",
    "version": 3
   },
   "file_extension": ".py",
   "mimetype": "text/x-python",
   "name": "python",
   "nbconvert_exporter": "python",
   "pygments_lexer": "ipython3",
   "version": "3.11.7"
  }
 },
 "nbformat": 4,
 "nbformat_minor": 5
}
